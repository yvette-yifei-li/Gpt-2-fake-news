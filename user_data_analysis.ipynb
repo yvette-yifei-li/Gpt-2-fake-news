{
 "cells": [
  {
   "cell_type": "code",
   "execution_count": 55,
   "id": "continuing-montana",
   "metadata": {
    "ExecuteTime": {
     "end_time": "2021-05-01T18:05:28.098951Z",
     "start_time": "2021-05-01T18:05:28.096398Z"
    }
   },
   "outputs": [],
   "source": [
    "import pandas as pd\n",
    "import matplotlib.pyplot as plt\n",
    "from sklearn.metrics import accuracy_score, precision_score, recall_score"
   ]
  },
  {
   "cell_type": "code",
   "execution_count": 56,
   "id": "green-provincial",
   "metadata": {
    "ExecuteTime": {
     "end_time": "2021-05-01T18:05:28.467746Z",
     "start_time": "2021-05-01T18:05:28.416441Z"
    }
   },
   "outputs": [],
   "source": [
    "r1 = pd.read_csv('user_result/552_final_April 30, 2021_05.18.csv')\n",
    "r2 = pd.read_csv('user_result/552_final_April+30,+2021_08.43.csv')\n",
    "all = pd.read_csv('user_study/user_test.csv')"
   ]
  },
  {
   "cell_type": "code",
   "execution_count": 57,
   "id": "regional-syndication",
   "metadata": {
    "ExecuteTime": {
     "end_time": "2021-05-01T18:05:28.802943Z",
     "start_time": "2021-05-01T18:05:28.790708Z"
    }
   },
   "outputs": [
    {
     "data": {
      "text/html": [
       "<div>\n",
       "<style scoped>\n",
       "    .dataframe tbody tr th:only-of-type {\n",
       "        vertical-align: middle;\n",
       "    }\n",
       "\n",
       "    .dataframe tbody tr th {\n",
       "        vertical-align: top;\n",
       "    }\n",
       "\n",
       "    .dataframe thead th {\n",
       "        text-align: right;\n",
       "    }\n",
       "</style>\n",
       "<table border=\"1\" class=\"dataframe\">\n",
       "  <thead>\n",
       "    <tr style=\"text-align: right;\">\n",
       "      <th></th>\n",
       "      <th>Unnamed: 0</th>\n",
       "      <th>Unnamed: 0.1</th>\n",
       "      <th>text</th>\n",
       "      <th>class</th>\n",
       "    </tr>\n",
       "    <tr>\n",
       "      <th>label</th>\n",
       "      <th></th>\n",
       "      <th></th>\n",
       "      <th></th>\n",
       "      <th></th>\n",
       "    </tr>\n",
       "  </thead>\n",
       "  <tbody>\n",
       "    <tr>\n",
       "      <th>0</th>\n",
       "      <td>36</td>\n",
       "      <td>36</td>\n",
       "      <td>36</td>\n",
       "      <td>1</td>\n",
       "    </tr>\n",
       "    <tr>\n",
       "      <th>1</th>\n",
       "      <td>36</td>\n",
       "      <td>36</td>\n",
       "      <td>36</td>\n",
       "      <td>1</td>\n",
       "    </tr>\n",
       "    <tr>\n",
       "      <th>2</th>\n",
       "      <td>36</td>\n",
       "      <td>36</td>\n",
       "      <td>36</td>\n",
       "      <td>1</td>\n",
       "    </tr>\n",
       "    <tr>\n",
       "      <th>3</th>\n",
       "      <td>36</td>\n",
       "      <td>36</td>\n",
       "      <td>36</td>\n",
       "      <td>1</td>\n",
       "    </tr>\n",
       "    <tr>\n",
       "      <th>4</th>\n",
       "      <td>36</td>\n",
       "      <td>36</td>\n",
       "      <td>36</td>\n",
       "      <td>1</td>\n",
       "    </tr>\n",
       "  </tbody>\n",
       "</table>\n",
       "</div>"
      ],
      "text/plain": [
       "       Unnamed: 0  Unnamed: 0.1  text  class\n",
       "label                                       \n",
       "0              36            36    36      1\n",
       "1              36            36    36      1\n",
       "2              36            36    36      1\n",
       "3              36            36    36      1\n",
       "4              36            36    36      1"
      ]
     },
     "execution_count": 57,
     "metadata": {},
     "output_type": "execute_result"
    }
   ],
   "source": [
    "all.groupby('label').nunique()"
   ]
  },
  {
   "cell_type": "code",
   "execution_count": 12,
   "id": "composite-generic",
   "metadata": {
    "ExecuteTime": {
     "end_time": "2021-05-01T17:20:39.731329Z",
     "start_time": "2021-05-01T17:20:39.716756Z"
    }
   },
   "outputs": [],
   "source": [
    "# d0 = all[all['label'] == 0]\n",
    "# d1 = all[all['label'] == 1]\n",
    "# d2 = all[all['label'] == 2]\n",
    "# d3 = all[all['label'] == 3]\n",
    "# d4 = all[all['label'] == 4]"
   ]
  },
  {
   "cell_type": "code",
   "execution_count": 13,
   "id": "breeding-proxy",
   "metadata": {
    "ExecuteTime": {
     "end_time": "2021-05-01T17:21:23.047604Z",
     "start_time": "2021-05-01T17:21:23.043131Z"
    }
   },
   "outputs": [],
   "source": [
    "# d0 = d0.sample(36)\n",
    "# d1 = d1.sample(36)\n",
    "# d3 = d3.sample(36)\n",
    "# d4 = d4.sample(36)"
   ]
  },
  {
   "cell_type": "code",
   "execution_count": 16,
   "id": "revised-exercise",
   "metadata": {
    "ExecuteTime": {
     "end_time": "2021-05-01T17:22:23.209118Z",
     "start_time": "2021-05-01T17:22:23.204195Z"
    }
   },
   "outputs": [],
   "source": [
    "all_final = pd.concat([d0,d1,d2,d3,d4])"
   ]
  },
  {
   "cell_type": "code",
   "execution_count": 58,
   "id": "martial-collection",
   "metadata": {
    "ExecuteTime": {
     "end_time": "2021-05-01T18:08:12.937779Z",
     "start_time": "2021-05-01T18:08:12.932283Z"
    }
   },
   "outputs": [],
   "source": [
    "all_final.to_csv('user_test.csv', index=False)"
   ]
  },
  {
   "cell_type": "code",
   "execution_count": 43,
   "id": "proof-david",
   "metadata": {
    "ExecuteTime": {
     "end_time": "2021-05-01T17:25:07.631888Z",
     "start_time": "2021-05-01T17:25:07.628969Z"
    }
   },
   "outputs": [],
   "source": [
    "r1a = r1.iloc[:,19:-1]\n",
    "r2a = r2.iloc[:,19:-1]"
   ]
  },
  {
   "cell_type": "code",
   "execution_count": 44,
   "id": "greek-gates",
   "metadata": {
    "ExecuteTime": {
     "end_time": "2021-05-01T17:25:07.928513Z",
     "start_time": "2021-05-01T17:25:07.924738Z"
    }
   },
   "outputs": [],
   "source": [
    "r1b = r1a.drop(1)\n",
    "r2b = r2a.drop(1)"
   ]
  },
  {
   "cell_type": "code",
   "execution_count": 45,
   "id": "expressed-stanford",
   "metadata": {
    "ExecuteTime": {
     "end_time": "2021-05-01T17:25:08.273463Z",
     "start_time": "2021-05-01T17:25:08.209473Z"
    }
   },
   "outputs": [],
   "source": [
    "for i in range(len(r1b.iloc[0, :])):\n",
    "    r1b.iloc[0,i] = r1b.iloc[0,i].split('_')[0]\n",
    "\n",
    "for i in range(len(r2b.iloc[0, :])):\n",
    "    r2b.iloc[0,i] = r2b.iloc[0,i].split('_')[0]"
   ]
  },
  {
   "cell_type": "code",
   "execution_count": 30,
   "id": "superb-portsmouth",
   "metadata": {
    "ExecuteTime": {
     "end_time": "2021-05-01T17:24:04.887619Z",
     "start_time": "2021-05-01T17:24:04.866918Z"
    }
   },
   "outputs": [
    {
     "data": {
      "text/html": [
       "<div>\n",
       "<style scoped>\n",
       "    .dataframe tbody tr th:only-of-type {\n",
       "        vertical-align: middle;\n",
       "    }\n",
       "\n",
       "    .dataframe tbody tr th {\n",
       "        vertical-align: top;\n",
       "    }\n",
       "\n",
       "    .dataframe thead th {\n",
       "        text-align: right;\n",
       "    }\n",
       "</style>\n",
       "<table border=\"1\" class=\"dataframe\">\n",
       "  <thead>\n",
       "    <tr style=\"text-align: right;\">\n",
       "      <th></th>\n",
       "      <th>QID17</th>\n",
       "      <th>QID18</th>\n",
       "      <th>QID19</th>\n",
       "      <th>QID21</th>\n",
       "      <th>QID20</th>\n",
       "      <th>QID22</th>\n",
       "      <th>QID23</th>\n",
       "      <th>QID24</th>\n",
       "      <th>QID25</th>\n",
       "      <th>QID26</th>\n",
       "      <th>...</th>\n",
       "      <th>QID257</th>\n",
       "      <th>QID258</th>\n",
       "      <th>QID259</th>\n",
       "      <th>QID260</th>\n",
       "      <th>QID261</th>\n",
       "      <th>QID262</th>\n",
       "      <th>QID263</th>\n",
       "      <th>QID264</th>\n",
       "      <th>QID265</th>\n",
       "      <th>QID266</th>\n",
       "    </tr>\n",
       "  </thead>\n",
       "  <tbody>\n",
       "    <tr>\n",
       "      <th>0</th>\n",
       "      <td>99</td>\n",
       "      <td>24</td>\n",
       "      <td>152</td>\n",
       "      <td>134</td>\n",
       "      <td>37</td>\n",
       "      <td>212</td>\n",
       "      <td>135</td>\n",
       "      <td>52</td>\n",
       "      <td>9</td>\n",
       "      <td>144</td>\n",
       "      <td>...</td>\n",
       "      <td>122</td>\n",
       "      <td>210</td>\n",
       "      <td>76</td>\n",
       "      <td>249</td>\n",
       "      <td>167</td>\n",
       "      <td>239</td>\n",
       "      <td>2</td>\n",
       "      <td>247</td>\n",
       "      <td>209</td>\n",
       "      <td>220</td>\n",
       "    </tr>\n",
       "    <tr>\n",
       "      <th>2</th>\n",
       "      <td>NaN</td>\n",
       "      <td>NaN</td>\n",
       "      <td>NaN</td>\n",
       "      <td>NaN</td>\n",
       "      <td>NaN</td>\n",
       "      <td>NaN</td>\n",
       "      <td>NaN</td>\n",
       "      <td>NaN</td>\n",
       "      <td>NaN</td>\n",
       "      <td>NaN</td>\n",
       "      <td>...</td>\n",
       "      <td>NaN</td>\n",
       "      <td>NaN</td>\n",
       "      <td>NaN</td>\n",
       "      <td>NaN</td>\n",
       "      <td>NaN</td>\n",
       "      <td>NaN</td>\n",
       "      <td>NaN</td>\n",
       "      <td>NaN</td>\n",
       "      <td>NaN</td>\n",
       "      <td>NaN</td>\n",
       "    </tr>\n",
       "    <tr>\n",
       "      <th>3</th>\n",
       "      <td>NaN</td>\n",
       "      <td>NaN</td>\n",
       "      <td>NaN</td>\n",
       "      <td>NaN</td>\n",
       "      <td>NaN</td>\n",
       "      <td>NaN</td>\n",
       "      <td>NaN</td>\n",
       "      <td>NaN</td>\n",
       "      <td>NaN</td>\n",
       "      <td>NaN</td>\n",
       "      <td>...</td>\n",
       "      <td>NaN</td>\n",
       "      <td>NaN</td>\n",
       "      <td>NaN</td>\n",
       "      <td>NaN</td>\n",
       "      <td>NaN</td>\n",
       "      <td>NaN</td>\n",
       "      <td>NaN</td>\n",
       "      <td>NaN</td>\n",
       "      <td>NaN</td>\n",
       "      <td>NaN</td>\n",
       "    </tr>\n",
       "    <tr>\n",
       "      <th>4</th>\n",
       "      <td>NaN</td>\n",
       "      <td>NaN</td>\n",
       "      <td>NaN</td>\n",
       "      <td>NaN</td>\n",
       "      <td>NaN</td>\n",
       "      <td>NaN</td>\n",
       "      <td>NaN</td>\n",
       "      <td>NaN</td>\n",
       "      <td>NaN</td>\n",
       "      <td>NaN</td>\n",
       "      <td>...</td>\n",
       "      <td>NaN</td>\n",
       "      <td>NaN</td>\n",
       "      <td>NaN</td>\n",
       "      <td>NaN</td>\n",
       "      <td>NaN</td>\n",
       "      <td>NaN</td>\n",
       "      <td>NaN</td>\n",
       "      <td>NaN</td>\n",
       "      <td>NaN</td>\n",
       "      <td>NaN</td>\n",
       "    </tr>\n",
       "    <tr>\n",
       "      <th>5</th>\n",
       "      <td>NaN</td>\n",
       "      <td>NaN</td>\n",
       "      <td>NaN</td>\n",
       "      <td>NaN</td>\n",
       "      <td>NaN</td>\n",
       "      <td>NaN</td>\n",
       "      <td>NaN</td>\n",
       "      <td>NaN</td>\n",
       "      <td>NaN</td>\n",
       "      <td>NaN</td>\n",
       "      <td>...</td>\n",
       "      <td>NaN</td>\n",
       "      <td>NaN</td>\n",
       "      <td>NaN</td>\n",
       "      <td>NaN</td>\n",
       "      <td>NaN</td>\n",
       "      <td>NaN</td>\n",
       "      <td>NaN</td>\n",
       "      <td>NaN</td>\n",
       "      <td>NaN</td>\n",
       "      <td>NaN</td>\n",
       "    </tr>\n",
       "  </tbody>\n",
       "</table>\n",
       "<p>5 rows × 250 columns</p>\n",
       "</div>"
      ],
      "text/plain": [
       "  QID17 QID18 QID19 QID21 QID20 QID22 QID23 QID24 QID25 QID26  ... QID257  \\\n",
       "0    99    24   152   134    37   212   135    52     9   144  ...    122   \n",
       "2   NaN   NaN   NaN   NaN   NaN   NaN   NaN   NaN   NaN   NaN  ...    NaN   \n",
       "3   NaN   NaN   NaN   NaN   NaN   NaN   NaN   NaN   NaN   NaN  ...    NaN   \n",
       "4   NaN   NaN   NaN   NaN   NaN   NaN   NaN   NaN   NaN   NaN  ...    NaN   \n",
       "5   NaN   NaN   NaN   NaN   NaN   NaN   NaN   NaN   NaN   NaN  ...    NaN   \n",
       "\n",
       "  QID258 QID259 QID260 QID261 QID262 QID263 QID264 QID265 QID266  \n",
       "0    210     76    249    167    239      2    247    209    220  \n",
       "2    NaN    NaN    NaN    NaN    NaN    NaN    NaN    NaN    NaN  \n",
       "3    NaN    NaN    NaN    NaN    NaN    NaN    NaN    NaN    NaN  \n",
       "4    NaN    NaN    NaN    NaN    NaN    NaN    NaN    NaN    NaN  \n",
       "5    NaN    NaN    NaN    NaN    NaN    NaN    NaN    NaN    NaN  \n",
       "\n",
       "[5 rows x 250 columns]"
      ]
     },
     "execution_count": 30,
     "metadata": {},
     "output_type": "execute_result"
    }
   ],
   "source": [
    "r1b.head()"
   ]
  },
  {
   "cell_type": "code",
   "execution_count": 46,
   "id": "upset-sellers",
   "metadata": {
    "ExecuteTime": {
     "end_time": "2021-05-01T17:25:09.829896Z",
     "start_time": "2021-05-01T17:25:09.826024Z"
    }
   },
   "outputs": [],
   "source": [
    "r1b_header = r1b.iloc[0]\n",
    "r1b = r1b[1:] \n",
    "r1b.columns = r1b_header"
   ]
  },
  {
   "cell_type": "code",
   "execution_count": 47,
   "id": "nasty-barrier",
   "metadata": {
    "ExecuteTime": {
     "end_time": "2021-05-01T17:25:10.174257Z",
     "start_time": "2021-05-01T17:25:10.170924Z"
    }
   },
   "outputs": [],
   "source": [
    "r2b_header = r2b.iloc[0]\n",
    "r2b = r2b[1:] \n",
    "r2b.columns = r2b_header"
   ]
  },
  {
   "cell_type": "code",
   "execution_count": 48,
   "id": "bored-canvas",
   "metadata": {
    "ExecuteTime": {
     "end_time": "2021-05-01T17:25:10.498579Z",
     "start_time": "2021-05-01T17:25:10.490686Z"
    }
   },
   "outputs": [],
   "source": [
    "r1c = r1b.T\n",
    "r2c = r2b.T"
   ]
  },
  {
   "cell_type": "code",
   "execution_count": 49,
   "id": "accepted-tiffany",
   "metadata": {
    "ExecuteTime": {
     "end_time": "2021-05-01T17:25:11.980801Z",
     "start_time": "2021-05-01T17:25:11.828912Z"
    }
   },
   "outputs": [],
   "source": [
    "for y in r1c:\n",
    "    a = [[y for y in x if pd.notna(y)] for x in r1c.values.tolist()]"
   ]
  },
  {
   "cell_type": "code",
   "execution_count": 50,
   "id": "indirect-terminology",
   "metadata": {
    "ExecuteTime": {
     "end_time": "2021-05-01T17:25:12.353556Z",
     "start_time": "2021-05-01T17:25:12.292530Z"
    }
   },
   "outputs": [],
   "source": [
    "for y in r2c:\n",
    "    b = [[y for y in x if pd.notna(y)] for x in r2c.values.tolist()]"
   ]
  },
  {
   "cell_type": "code",
   "execution_count": 51,
   "id": "asian-drilling",
   "metadata": {
    "ExecuteTime": {
     "end_time": "2021-05-01T17:25:13.767582Z",
     "start_time": "2021-05-01T17:25:13.764010Z"
    }
   },
   "outputs": [],
   "source": [
    "d = {}\n",
    "for i in range(len(r1c.index)):\n",
    "    d[r1c.index[i]] = a[i]"
   ]
  },
  {
   "cell_type": "code",
   "execution_count": 52,
   "id": "athletic-combining",
   "metadata": {
    "ExecuteTime": {
     "end_time": "2021-05-01T17:25:14.174788Z",
     "start_time": "2021-05-01T17:25:14.171992Z"
    }
   },
   "outputs": [],
   "source": [
    "for i in range(len(r2c.index)):\n",
    "    d[r2c.index[i]].extend(b[i])"
   ]
  },
  {
   "cell_type": "code",
   "execution_count": 53,
   "id": "opened-roads",
   "metadata": {
    "ExecuteTime": {
     "end_time": "2021-05-01T17:25:14.812562Z",
     "start_time": "2021-05-01T17:25:14.809563Z"
    }
   },
   "outputs": [],
   "source": [
    "all['Unnamed: 0'] = all['Unnamed: 0'].astype(str)"
   ]
  },
  {
   "cell_type": "code",
   "execution_count": 54,
   "id": "unnecessary-motivation",
   "metadata": {
    "ExecuteTime": {
     "end_time": "2021-05-01T17:25:17.346332Z",
     "start_time": "2021-05-01T17:25:16.561241Z"
    }
   },
   "outputs": [],
   "source": [
    "y_label = []\n",
    "y_test = []\n",
    "y_human = []\n",
    "for k in d.keys():\n",
    "    for p in d[k]:\n",
    "        try:\n",
    "            y_label.append(all[all['Unnamed: 0']==k]['label'].values[0])\n",
    "            y_test.append(all[all['Unnamed: 0']==k]['class'].values[0])\n",
    "            if p == '1':\n",
    "                y_human.append(1)\n",
    "            else:\n",
    "                y_human.append(0)\n",
    "        except:\n",
    "            continue"
   ]
  },
  {
   "cell_type": "code",
   "execution_count": 40,
   "id": "clear-tower",
   "metadata": {
    "ExecuteTime": {
     "end_time": "2021-05-01T17:24:20.428625Z",
     "start_time": "2021-05-01T17:24:20.423105Z"
    }
   },
   "outputs": [],
   "source": [
    "result = pd.DataFrame({'y_label':y_label, 'y_test':y_test, 'y_human':y_human})"
   ]
  },
  {
   "cell_type": "code",
   "execution_count": 85,
   "id": "distributed-advocacy",
   "metadata": {
    "ExecuteTime": {
     "end_time": "2021-05-01T19:52:27.007170Z",
     "start_time": "2021-05-01T19:52:26.989240Z"
    }
   },
   "outputs": [
    {
     "data": {
      "text/html": [
       "<div>\n",
       "<style scoped>\n",
       "    .dataframe tbody tr th:only-of-type {\n",
       "        vertical-align: middle;\n",
       "    }\n",
       "\n",
       "    .dataframe tbody tr th {\n",
       "        vertical-align: top;\n",
       "    }\n",
       "\n",
       "    .dataframe thead th {\n",
       "        text-align: right;\n",
       "    }\n",
       "</style>\n",
       "<table border=\"1\" class=\"dataframe\">\n",
       "  <thead>\n",
       "    <tr style=\"text-align: right;\">\n",
       "      <th></th>\n",
       "      <th>y_label</th>\n",
       "      <th>y_test</th>\n",
       "      <th>y_human</th>\n",
       "    </tr>\n",
       "  </thead>\n",
       "  <tbody>\n",
       "    <tr>\n",
       "      <th>0</th>\n",
       "      <td>3</td>\n",
       "      <td>1</td>\n",
       "      <td>0</td>\n",
       "    </tr>\n",
       "    <tr>\n",
       "      <th>1</th>\n",
       "      <td>3</td>\n",
       "      <td>1</td>\n",
       "      <td>1</td>\n",
       "    </tr>\n",
       "    <tr>\n",
       "      <th>2</th>\n",
       "      <td>3</td>\n",
       "      <td>1</td>\n",
       "      <td>1</td>\n",
       "    </tr>\n",
       "    <tr>\n",
       "      <th>3</th>\n",
       "      <td>2</td>\n",
       "      <td>1</td>\n",
       "      <td>0</td>\n",
       "    </tr>\n",
       "    <tr>\n",
       "      <th>4</th>\n",
       "      <td>2</td>\n",
       "      <td>1</td>\n",
       "      <td>1</td>\n",
       "    </tr>\n",
       "    <tr>\n",
       "      <th>...</th>\n",
       "      <td>...</td>\n",
       "      <td>...</td>\n",
       "      <td>...</td>\n",
       "    </tr>\n",
       "    <tr>\n",
       "      <th>703</th>\n",
       "      <td>2</td>\n",
       "      <td>1</td>\n",
       "      <td>0</td>\n",
       "    </tr>\n",
       "    <tr>\n",
       "      <th>704</th>\n",
       "      <td>2</td>\n",
       "      <td>1</td>\n",
       "      <td>1</td>\n",
       "    </tr>\n",
       "    <tr>\n",
       "      <th>705</th>\n",
       "      <td>2</td>\n",
       "      <td>1</td>\n",
       "      <td>0</td>\n",
       "    </tr>\n",
       "    <tr>\n",
       "      <th>706</th>\n",
       "      <td>2</td>\n",
       "      <td>1</td>\n",
       "      <td>1</td>\n",
       "    </tr>\n",
       "    <tr>\n",
       "      <th>707</th>\n",
       "      <td>2</td>\n",
       "      <td>1</td>\n",
       "      <td>1</td>\n",
       "    </tr>\n",
       "  </tbody>\n",
       "</table>\n",
       "<p>708 rows × 3 columns</p>\n",
       "</div>"
      ],
      "text/plain": [
       "     y_label  y_test  y_human\n",
       "0          3       1        0\n",
       "1          3       1        1\n",
       "2          3       1        1\n",
       "3          2       1        0\n",
       "4          2       1        1\n",
       "..       ...     ...      ...\n",
       "703        2       1        0\n",
       "704        2       1        1\n",
       "705        2       1        0\n",
       "706        2       1        1\n",
       "707        2       1        1\n",
       "\n",
       "[708 rows x 3 columns]"
      ]
     },
     "execution_count": 85,
     "metadata": {},
     "output_type": "execute_result"
    }
   ],
   "source": [
    "result"
   ]
  },
  {
   "cell_type": "markdown",
   "id": "persistent-definition",
   "metadata": {},
   "source": [
    "#### User Performance"
   ]
  },
  {
   "cell_type": "code",
   "execution_count": 61,
   "id": "configured-producer",
   "metadata": {
    "ExecuteTime": {
     "end_time": "2021-05-01T18:24:03.023632Z",
     "start_time": "2021-05-01T18:24:03.017514Z"
    }
   },
   "outputs": [],
   "source": [
    "df00 = result[result['y_label']==0]\n",
    "df03 = result[result['y_label']==1]\n",
    "df05 = result[result['y_label']==2]\n",
    "df07 = result[result['y_label']==3]\n",
    "df10 = result[result['y_label']==4]"
   ]
  },
  {
   "cell_type": "code",
   "execution_count": 70,
   "id": "signal-relations",
   "metadata": {
    "ExecuteTime": {
     "end_time": "2021-05-01T18:27:05.649991Z",
     "start_time": "2021-05-01T18:27:05.645249Z"
    }
   },
   "outputs": [],
   "source": [
    "user03 = pd.concat([df03, df00])\n",
    "user05 = pd.concat([df05, df00])\n",
    "user07 = pd.concat([df07, df00])\n",
    "user10 = pd.concat([df10, df00])"
   ]
  },
  {
   "cell_type": "code",
   "execution_count": 75,
   "id": "associate-authentication",
   "metadata": {
    "ExecuteTime": {
     "end_time": "2021-05-01T18:30:43.254464Z",
     "start_time": "2021-05-01T18:30:43.237967Z"
    }
   },
   "outputs": [],
   "source": [
    "acc03 = accuracy_score(user03['y_test'], user03['y_human'])\n",
    "prec03 = precision_score(user03['y_test'], user03['y_human'])\n",
    "rec03 = recall_score(user03['y_test'], user03['y_human'])\n",
    "\n",
    "acc05 = accuracy_score(user05['y_test'], user05['y_human'])\n",
    "prec05 = precision_score(user05['y_test'], user05['y_human'])\n",
    "rec05 = recall_score(user05['y_test'], user05['y_human'])\n",
    "\n",
    "acc07 = accuracy_score(user07['y_test'], user07['y_human'])\n",
    "prec07 = precision_score(user07['y_test'], user07['y_human'])\n",
    "rec07 = recall_score(user07['y_test'], user07['y_human'])\n",
    "\n",
    "acc10 = accuracy_score(user10['y_test'], user10['y_human'])\n",
    "prec10 = precision_score(user10['y_test'], user10['y_human'])\n",
    "rec10 = recall_score(user10['y_test'], user10['y_human'])"
   ]
  },
  {
   "cell_type": "code",
   "execution_count": 83,
   "id": "subtle-confusion",
   "metadata": {
    "ExecuteTime": {
     "end_time": "2021-05-01T19:48:44.623986Z",
     "start_time": "2021-05-01T19:48:44.620879Z"
    }
   },
   "outputs": [],
   "source": [
    "temp_list = [0.3, 0.5, 0.7, 1.0]\n",
    "acc_list = [acc03, acc05, acc07, acc10]\n",
    "prec_list = [prec03, prec05, prec07, prec10]\n",
    "rec_list = [rec03, rec05, rec07, rec10]"
   ]
  },
  {
   "cell_type": "code",
   "execution_count": 84,
   "id": "opponent-search",
   "metadata": {
    "ExecuteTime": {
     "end_time": "2021-05-01T19:48:44.956637Z",
     "start_time": "2021-05-01T19:48:44.946026Z"
    }
   },
   "outputs": [
    {
     "name": "stdout",
     "output_type": "stream",
     "text": [
      "[0.5476190476190477, 0.5714285714285714, 0.545774647887324, 0.5551724137931034] [0.5476190476190477, 0.5581395348837209, 0.525, 0.5476190476190477] [0.47586206896551725, 0.5217391304347826, 0.4666666666666667, 0.48936170212765956]\n"
     ]
    }
   ],
   "source": [
    "print(acc_list, prec_list, rec_list)"
   ]
  },
  {
   "cell_type": "code",
   "execution_count": 87,
   "id": "vietnamese-northeast",
   "metadata": {
    "ExecuteTime": {
     "end_time": "2021-05-02T05:30:31.181437Z",
     "start_time": "2021-05-02T05:30:30.839089Z"
    }
   },
   "outputs": [
    {
     "data": {
      "image/png": "[encoded data removed]",
      "text/plain": [
       "<Figure size 432x288 with 1 Axes>"
      ]
     },
     "metadata": {
      "needs_background": "light"
     },
     "output_type": "display_data"
    }
   ],
   "source": [
    "#plt.plot(temp_list, acc_list, label = 'Accuracy', marker = 'o', markersize=8, lw=2)\n",
    "plt.plot(temp_list, prec_lsit, label = 'Precision', marker = '*',lw=2)\n",
    "plt.plot(temp_list, rec_list, label = 'Recall', marker = 'x',lw=2)\n",
    "#plt.plot(temp_list, auc_list, label = 'AUC Score', marker = 'v',lw=2)\n",
    "plt.xlabel('Temperature')\n",
    "plt.ylabel('Human Fake News Detection Performance')\n",
    "plt.yticks([0, 0.2,0.4, 0.6, 0.8, 1.0])\n",
    "plt.legend(loc='upper left')\n",
    "plt.show()"
   ]
  },
  {
   "cell_type": "code",
   "execution_count": null,
   "id": "functional-apparel",
   "metadata": {},
   "outputs": [],
   "source": []
  }
 ],
 "metadata": {
  "kernelspec": {
   "display_name": "Python 3",
   "language": "python",
   "name": "python3"
  },
  "language_info": {
   "codemirror_mode": {
    "name": "ipython",
    "version": 3
   },
   "file_extension": ".py",
   "mimetype": "text/x-python",
   "name": "python",
   "nbconvert_exporter": "python",
   "pygments_lexer": "ipython3",
   "version": "3.7.4"
  }
 },
 "nbformat": 4,
 "nbformat_minor": 5
}
