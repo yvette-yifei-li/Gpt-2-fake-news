{
 "cells": [
  {
   "cell_type": "code",
   "execution_count": 397,
   "id": "continuing-montana",
   "metadata": {
    "ExecuteTime": {
     "end_time": "2021-04-30T21:22:47.796004Z",
     "start_time": "2021-04-30T21:22:47.793527Z"
    }
   },
   "outputs": [],
   "source": [
    "import pandas as pd\n",
    "import matplotlib.pyplot as plt\n",
    "from sklearn.metrics import accuracy_score, precision_score, recall_score"
   ]
  },
  {
   "cell_type": "code",
   "execution_count": 483,
   "id": "green-provincial",
   "metadata": {
    "ExecuteTime": {
     "end_time": "2021-05-01T06:30:15.978495Z",
     "start_time": "2021-05-01T06:30:15.873645Z"
    }
   },
   "outputs": [],
   "source": [
    "r1 = pd.read_csv('user_result/552_final_April 30, 2021_05.18.csv')\n",
    "r2 = pd.read_csv('user_result/552_final_April+30,+2021_08.43.csv')\n",
    "all = pd.read_csv('user_study/user_study_data.csv')"
   ]
  },
  {
   "cell_type": "code",
   "execution_count": 484,
   "id": "developed-peter",
   "metadata": {
    "ExecuteTime": {
     "end_time": "2021-05-01T06:30:16.201266Z",
     "start_time": "2021-05-01T06:30:16.181946Z"
    }
   },
   "outputs": [
    {
     "data": {
      "text/html": [
       "<div>\n",
       "<style scoped>\n",
       "    .dataframe tbody tr th:only-of-type {\n",
       "        vertical-align: middle;\n",
       "    }\n",
       "\n",
       "    .dataframe tbody tr th {\n",
       "        vertical-align: top;\n",
       "    }\n",
       "\n",
       "    .dataframe thead th {\n",
       "        text-align: right;\n",
       "    }\n",
       "</style>\n",
       "<table border=\"1\" class=\"dataframe\">\n",
       "  <thead>\n",
       "    <tr style=\"text-align: right;\">\n",
       "      <th></th>\n",
       "      <th>Unnamed: 0</th>\n",
       "      <th>text</th>\n",
       "      <th>label</th>\n",
       "      <th>class</th>\n",
       "    </tr>\n",
       "  </thead>\n",
       "  <tbody>\n",
       "    <tr>\n",
       "      <th>0</th>\n",
       "      <td>4</td>\n",
       "      <td>Hospitals across England are stretched to the ...</td>\n",
       "      <td>0</td>\n",
       "      <td>0</td>\n",
       "    </tr>\n",
       "    <tr>\n",
       "      <th>1</th>\n",
       "      <td>14</td>\n",
       "      <td>Frank King has gotten death threats. So many a...</td>\n",
       "      <td>0</td>\n",
       "      <td>0</td>\n",
       "    </tr>\n",
       "    <tr>\n",
       "      <th>2</th>\n",
       "      <td>19</td>\n",
       "      <td>Lenore Janis, a force of nature in the New Yor...</td>\n",
       "      <td>0</td>\n",
       "      <td>0</td>\n",
       "    </tr>\n",
       "    <tr>\n",
       "      <th>3</th>\n",
       "      <td>29</td>\n",
       "      <td>South Africa has faced blow after blow to its ...</td>\n",
       "      <td>0</td>\n",
       "      <td>0</td>\n",
       "    </tr>\n",
       "    <tr>\n",
       "      <th>4</th>\n",
       "      <td>31</td>\n",
       "      <td>Just over one million Americans filed new clai...</td>\n",
       "      <td>0</td>\n",
       "      <td>0</td>\n",
       "    </tr>\n",
       "  </tbody>\n",
       "</table>\n",
       "</div>"
      ],
      "text/plain": [
       "   Unnamed: 0                                               text  label  class\n",
       "0           4  Hospitals across England are stretched to the ...      0      0\n",
       "1          14  Frank King has gotten death threats. So many a...      0      0\n",
       "2          19  Lenore Janis, a force of nature in the New Yor...      0      0\n",
       "3          29  South Africa has faced blow after blow to its ...      0      0\n",
       "4          31  Just over one million Americans filed new clai...      0      0"
      ]
     },
     "execution_count": 484,
     "metadata": {},
     "output_type": "execute_result"
    }
   ],
   "source": [
    "all.head()"
   ]
  },
  {
   "cell_type": "code",
   "execution_count": 485,
   "id": "proof-david",
   "metadata": {
    "ExecuteTime": {
     "end_time": "2021-05-01T06:30:16.456631Z",
     "start_time": "2021-05-01T06:30:16.451064Z"
    }
   },
   "outputs": [],
   "source": [
    "r1a = r1.iloc[:,19:-1]\n",
    "r2a = r2.iloc[:,19:-1]"
   ]
  },
  {
   "cell_type": "code",
   "execution_count": 486,
   "id": "greek-gates",
   "metadata": {
    "ExecuteTime": {
     "end_time": "2021-05-01T06:30:16.748089Z",
     "start_time": "2021-05-01T06:30:16.742128Z"
    }
   },
   "outputs": [],
   "source": [
    "r1b = r1_a.drop(1)\n",
    "r2b = r2_a.drop(1)"
   ]
  },
  {
   "cell_type": "code",
   "execution_count": 487,
   "id": "expressed-stanford",
   "metadata": {
    "ExecuteTime": {
     "end_time": "2021-05-01T06:30:17.132939Z",
     "start_time": "2021-05-01T06:30:17.059093Z"
    }
   },
   "outputs": [],
   "source": [
    "for i in range(len(r1b.iloc[0, :])):\n",
    "    r1b.iloc[0,i] = r1b.iloc[0,i].split('_')[0]\n",
    "\n",
    "for i in range(len(r2b.iloc[0, :])):\n",
    "    r2b.iloc[0,i] = r2b.iloc[0,i].split('_')[0]"
   ]
  },
  {
   "cell_type": "code",
   "execution_count": 488,
   "id": "superb-portsmouth",
   "metadata": {
    "ExecuteTime": {
     "end_time": "2021-05-01T06:30:17.380698Z",
     "start_time": "2021-05-01T06:30:17.349320Z"
    }
   },
   "outputs": [
    {
     "data": {
      "text/html": [
       "<div>\n",
       "<style scoped>\n",
       "    .dataframe tbody tr th:only-of-type {\n",
       "        vertical-align: middle;\n",
       "    }\n",
       "\n",
       "    .dataframe tbody tr th {\n",
       "        vertical-align: top;\n",
       "    }\n",
       "\n",
       "    .dataframe thead th {\n",
       "        text-align: right;\n",
       "    }\n",
       "</style>\n",
       "<table border=\"1\" class=\"dataframe\">\n",
       "  <thead>\n",
       "    <tr style=\"text-align: right;\">\n",
       "      <th></th>\n",
       "      <th>QID17</th>\n",
       "      <th>QID18</th>\n",
       "      <th>QID19</th>\n",
       "      <th>QID21</th>\n",
       "      <th>QID20</th>\n",
       "      <th>QID22</th>\n",
       "      <th>QID23</th>\n",
       "      <th>QID24</th>\n",
       "      <th>QID25</th>\n",
       "      <th>QID26</th>\n",
       "      <th>...</th>\n",
       "      <th>QID257</th>\n",
       "      <th>QID258</th>\n",
       "      <th>QID259</th>\n",
       "      <th>QID260</th>\n",
       "      <th>QID261</th>\n",
       "      <th>QID262</th>\n",
       "      <th>QID263</th>\n",
       "      <th>QID264</th>\n",
       "      <th>QID265</th>\n",
       "      <th>QID266</th>\n",
       "    </tr>\n",
       "  </thead>\n",
       "  <tbody>\n",
       "    <tr>\n",
       "      <th>0</th>\n",
       "      <td>99</td>\n",
       "      <td>24</td>\n",
       "      <td>152</td>\n",
       "      <td>134</td>\n",
       "      <td>37</td>\n",
       "      <td>212</td>\n",
       "      <td>135</td>\n",
       "      <td>52</td>\n",
       "      <td>9</td>\n",
       "      <td>144</td>\n",
       "      <td>...</td>\n",
       "      <td>122</td>\n",
       "      <td>210</td>\n",
       "      <td>76</td>\n",
       "      <td>249</td>\n",
       "      <td>167</td>\n",
       "      <td>239</td>\n",
       "      <td>2</td>\n",
       "      <td>247</td>\n",
       "      <td>209</td>\n",
       "      <td>220</td>\n",
       "    </tr>\n",
       "    <tr>\n",
       "      <th>2</th>\n",
       "      <td>NaN</td>\n",
       "      <td>NaN</td>\n",
       "      <td>NaN</td>\n",
       "      <td>NaN</td>\n",
       "      <td>NaN</td>\n",
       "      <td>NaN</td>\n",
       "      <td>NaN</td>\n",
       "      <td>NaN</td>\n",
       "      <td>NaN</td>\n",
       "      <td>NaN</td>\n",
       "      <td>...</td>\n",
       "      <td>NaN</td>\n",
       "      <td>NaN</td>\n",
       "      <td>NaN</td>\n",
       "      <td>NaN</td>\n",
       "      <td>NaN</td>\n",
       "      <td>NaN</td>\n",
       "      <td>NaN</td>\n",
       "      <td>NaN</td>\n",
       "      <td>NaN</td>\n",
       "      <td>NaN</td>\n",
       "    </tr>\n",
       "    <tr>\n",
       "      <th>3</th>\n",
       "      <td>NaN</td>\n",
       "      <td>NaN</td>\n",
       "      <td>NaN</td>\n",
       "      <td>NaN</td>\n",
       "      <td>NaN</td>\n",
       "      <td>NaN</td>\n",
       "      <td>NaN</td>\n",
       "      <td>NaN</td>\n",
       "      <td>NaN</td>\n",
       "      <td>NaN</td>\n",
       "      <td>...</td>\n",
       "      <td>NaN</td>\n",
       "      <td>NaN</td>\n",
       "      <td>NaN</td>\n",
       "      <td>NaN</td>\n",
       "      <td>NaN</td>\n",
       "      <td>NaN</td>\n",
       "      <td>NaN</td>\n",
       "      <td>NaN</td>\n",
       "      <td>NaN</td>\n",
       "      <td>NaN</td>\n",
       "    </tr>\n",
       "    <tr>\n",
       "      <th>4</th>\n",
       "      <td>NaN</td>\n",
       "      <td>NaN</td>\n",
       "      <td>NaN</td>\n",
       "      <td>NaN</td>\n",
       "      <td>NaN</td>\n",
       "      <td>NaN</td>\n",
       "      <td>NaN</td>\n",
       "      <td>NaN</td>\n",
       "      <td>NaN</td>\n",
       "      <td>NaN</td>\n",
       "      <td>...</td>\n",
       "      <td>NaN</td>\n",
       "      <td>NaN</td>\n",
       "      <td>NaN</td>\n",
       "      <td>NaN</td>\n",
       "      <td>NaN</td>\n",
       "      <td>NaN</td>\n",
       "      <td>NaN</td>\n",
       "      <td>NaN</td>\n",
       "      <td>NaN</td>\n",
       "      <td>NaN</td>\n",
       "    </tr>\n",
       "    <tr>\n",
       "      <th>5</th>\n",
       "      <td>NaN</td>\n",
       "      <td>NaN</td>\n",
       "      <td>NaN</td>\n",
       "      <td>NaN</td>\n",
       "      <td>NaN</td>\n",
       "      <td>NaN</td>\n",
       "      <td>NaN</td>\n",
       "      <td>NaN</td>\n",
       "      <td>NaN</td>\n",
       "      <td>NaN</td>\n",
       "      <td>...</td>\n",
       "      <td>NaN</td>\n",
       "      <td>NaN</td>\n",
       "      <td>NaN</td>\n",
       "      <td>NaN</td>\n",
       "      <td>NaN</td>\n",
       "      <td>NaN</td>\n",
       "      <td>NaN</td>\n",
       "      <td>NaN</td>\n",
       "      <td>NaN</td>\n",
       "      <td>NaN</td>\n",
       "    </tr>\n",
       "  </tbody>\n",
       "</table>\n",
       "<p>5 rows × 250 columns</p>\n",
       "</div>"
      ],
      "text/plain": [
       "  QID17 QID18 QID19 QID21 QID20 QID22 QID23 QID24 QID25 QID26  ... QID257  \\\n",
       "0    99    24   152   134    37   212   135    52     9   144  ...    122   \n",
       "2   NaN   NaN   NaN   NaN   NaN   NaN   NaN   NaN   NaN   NaN  ...    NaN   \n",
       "3   NaN   NaN   NaN   NaN   NaN   NaN   NaN   NaN   NaN   NaN  ...    NaN   \n",
       "4   NaN   NaN   NaN   NaN   NaN   NaN   NaN   NaN   NaN   NaN  ...    NaN   \n",
       "5   NaN   NaN   NaN   NaN   NaN   NaN   NaN   NaN   NaN   NaN  ...    NaN   \n",
       "\n",
       "  QID258 QID259 QID260 QID261 QID262 QID263 QID264 QID265 QID266  \n",
       "0    210     76    249    167    239      2    247    209    220  \n",
       "2    NaN    NaN    NaN    NaN    NaN    NaN    NaN    NaN    NaN  \n",
       "3    NaN    NaN    NaN    NaN    NaN    NaN    NaN    NaN    NaN  \n",
       "4    NaN    NaN    NaN    NaN    NaN    NaN    NaN    NaN    NaN  \n",
       "5    NaN    NaN    NaN    NaN    NaN    NaN    NaN    NaN    NaN  \n",
       "\n",
       "[5 rows x 250 columns]"
      ]
     },
     "execution_count": 488,
     "metadata": {},
     "output_type": "execute_result"
    }
   ],
   "source": [
    "r1b.head()"
   ]
  },
  {
   "cell_type": "code",
   "execution_count": 489,
   "id": "upset-sellers",
   "metadata": {
    "ExecuteTime": {
     "end_time": "2021-05-01T06:30:17.685520Z",
     "start_time": "2021-05-01T06:30:17.681730Z"
    }
   },
   "outputs": [],
   "source": [
    "r1b_header = r1b.iloc[0]\n",
    "r1b = r1b[1:] \n",
    "r1b.columns = r1b_header"
   ]
  },
  {
   "cell_type": "code",
   "execution_count": 490,
   "id": "nasty-barrier",
   "metadata": {
    "ExecuteTime": {
     "end_time": "2021-05-01T06:30:18.024352Z",
     "start_time": "2021-05-01T06:30:18.020027Z"
    }
   },
   "outputs": [],
   "source": [
    "r2b_header = r2b.iloc[0]\n",
    "r2b = r2b[1:] \n",
    "r2b.columns = r2b_header"
   ]
  },
  {
   "cell_type": "code",
   "execution_count": 491,
   "id": "bored-canvas",
   "metadata": {
    "ExecuteTime": {
     "end_time": "2021-05-01T06:30:18.338925Z",
     "start_time": "2021-05-01T06:30:18.329238Z"
    }
   },
   "outputs": [],
   "source": [
    "r1c = r1b.T\n",
    "r2c = r2b.T"
   ]
  },
  {
   "cell_type": "code",
   "execution_count": 492,
   "id": "accepted-tiffany",
   "metadata": {
    "ExecuteTime": {
     "end_time": "2021-05-01T06:30:18.801420Z",
     "start_time": "2021-05-01T06:30:18.629048Z"
    }
   },
   "outputs": [],
   "source": [
    "for y in r1c:\n",
    "    a = [[y for y in x if pd.notna(y)] for x in r1c.values.tolist()]"
   ]
  },
  {
   "cell_type": "code",
   "execution_count": 493,
   "id": "indirect-terminology",
   "metadata": {
    "ExecuteTime": {
     "end_time": "2021-05-01T06:30:18.969764Z",
     "start_time": "2021-05-01T06:30:18.907518Z"
    }
   },
   "outputs": [],
   "source": [
    "for y in r2c:\n",
    "    b = [[y for y in x if pd.notna(y)] for x in r2c.values.tolist()]"
   ]
  },
  {
   "cell_type": "code",
   "execution_count": 494,
   "id": "asian-drilling",
   "metadata": {
    "ExecuteTime": {
     "end_time": "2021-05-01T06:30:19.183135Z",
     "start_time": "2021-05-01T06:30:19.180021Z"
    }
   },
   "outputs": [],
   "source": [
    "d = {}\n",
    "for i in range(len(r1c.index)):\n",
    "    d[r1c.index[i]] = a[i]"
   ]
  },
  {
   "cell_type": "code",
   "execution_count": 495,
   "id": "athletic-combining",
   "metadata": {
    "ExecuteTime": {
     "end_time": "2021-05-01T06:30:19.462478Z",
     "start_time": "2021-05-01T06:30:19.459075Z"
    }
   },
   "outputs": [],
   "source": [
    "for i in range(len(r2c.index)):\n",
    "    d[r2c.index[i]].extend(b[i])"
   ]
  },
  {
   "cell_type": "code",
   "execution_count": 496,
   "id": "opened-roads",
   "metadata": {
    "ExecuteTime": {
     "end_time": "2021-05-01T06:30:19.717154Z",
     "start_time": "2021-05-01T06:30:19.713598Z"
    }
   },
   "outputs": [],
   "source": [
    "all['Unnamed: 0'] = all['Unnamed: 0'].astype(str)"
   ]
  },
  {
   "cell_type": "code",
   "execution_count": 497,
   "id": "unnecessary-motivation",
   "metadata": {
    "ExecuteTime": {
     "end_time": "2021-05-01T06:30:20.704872Z",
     "start_time": "2021-05-01T06:30:20.010090Z"
    }
   },
   "outputs": [],
   "source": [
    "y_label = []\n",
    "y_test = []\n",
    "y_human = []\n",
    "for k in d.keys():\n",
    "    for p in d[k]:\n",
    "        try:\n",
    "            y_label.append(all[all['Unnamed: 0']==k]['label'].values[0])\n",
    "            y_test.append(all[all['Unnamed: 0']==k]['class'].values[0])\n",
    "            if p == '1':\n",
    "                y_human.append(1)\n",
    "            else:\n",
    "                y_human.append(0)\n",
    "        except:\n",
    "            continue"
   ]
  },
  {
   "cell_type": "code",
   "execution_count": 498,
   "id": "clear-tower",
   "metadata": {
    "ExecuteTime": {
     "end_time": "2021-05-01T06:30:20.718199Z",
     "start_time": "2021-05-01T06:30:20.709739Z"
    }
   },
   "outputs": [],
   "source": [
    "result = pd.DataFrame({'y_label':y_label, 'y_test':y_test, 'y_human':y_human})"
   ]
  },
  {
   "cell_type": "code",
   "execution_count": 499,
   "id": "collective-berry",
   "metadata": {
    "ExecuteTime": {
     "end_time": "2021-05-01T06:30:20.738481Z",
     "start_time": "2021-05-01T06:30:20.720463Z"
    }
   },
   "outputs": [
    {
     "data": {
      "text/html": [
       "<div>\n",
       "<style scoped>\n",
       "    .dataframe tbody tr th:only-of-type {\n",
       "        vertical-align: middle;\n",
       "    }\n",
       "\n",
       "    .dataframe tbody tr th {\n",
       "        vertical-align: top;\n",
       "    }\n",
       "\n",
       "    .dataframe thead tr th {\n",
       "        text-align: left;\n",
       "    }\n",
       "</style>\n",
       "<table border=\"1\" class=\"dataframe\">\n",
       "  <thead>\n",
       "    <tr>\n",
       "      <th></th>\n",
       "      <th>y_label</th>\n",
       "      <th>y_test</th>\n",
       "      <th>y_human</th>\n",
       "    </tr>\n",
       "    <tr>\n",
       "      <th></th>\n",
       "      <th>count</th>\n",
       "      <th>count</th>\n",
       "      <th>count</th>\n",
       "    </tr>\n",
       "  </thead>\n",
       "  <tbody>\n",
       "    <tr>\n",
       "      <th>0</th>\n",
       "      <td>193</td>\n",
       "      <td>193</td>\n",
       "      <td>193</td>\n",
       "    </tr>\n",
       "    <tr>\n",
       "      <th>3</th>\n",
       "      <td>233</td>\n",
       "      <td>233</td>\n",
       "      <td>233</td>\n",
       "    </tr>\n",
       "  </tbody>\n",
       "</table>\n",
       "</div>"
      ],
      "text/plain": [
       "  y_label y_test y_human\n",
       "    count  count   count\n",
       "0     193    193     193\n",
       "3     233    233     233"
      ]
     },
     "execution_count": 499,
     "metadata": {},
     "output_type": "execute_result"
    }
   ],
   "source": [
    "result.groupby([y_label]).agg(['count'])"
   ]
  },
  {
   "cell_type": "code",
   "execution_count": 501,
   "id": "associate-authentication",
   "metadata": {
    "ExecuteTime": {
     "end_time": "2021-05-01T06:30:21.708139Z",
     "start_time": "2021-05-01T06:30:21.683449Z"
    }
   },
   "outputs": [
    {
     "name": "stdout",
     "output_type": "stream",
     "text": [
      "Accuracy: 0.51\n",
      "Precision 0.57\n",
      "Recall 0.44\n"
     ]
    }
   ],
   "source": [
    "acc = accuracy_score(result['y_test'], result['y_human'])\n",
    "prec = precision_score(result['y_test'], result['y_human'])\n",
    "rec = recall_score(result['y_test'], result['y_human'])\n",
    "\n",
    "print(\"Accuracy:\",  round(acc,2))\n",
    "print(\"Precision\", round(prec,2))\n",
    "print(\"Recall\", round(rec,2))"
   ]
  },
  {
   "cell_type": "code",
   "execution_count": null,
   "id": "vietnamese-northeast",
   "metadata": {},
   "outputs": [],
   "source": []
  }
 ],
 "metadata": {
  "kernelspec": {
   "display_name": "Python 3",
   "language": "python",
   "name": "python3"
  },
  "language_info": {
   "codemirror_mode": {
    "name": "ipython",
    "version": 3
   },
   "file_extension": ".py",
   "mimetype": "text/x-python",
   "name": "python",
   "nbconvert_exporter": "python",
   "pygments_lexer": "ipython3",
   "version": "3.7.4"
  }
 },
 "nbformat": 4,
 "nbformat_minor": 5
}
