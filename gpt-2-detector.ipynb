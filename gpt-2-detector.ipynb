{
 "cells": [
  {
   "cell_type": "code",
   "execution_count": 19,
   "id": "swedish-summary",
   "metadata": {
    "ExecuteTime": {
     "end_time": "2021-05-01T19:51:34.837039Z",
     "start_time": "2021-05-01T19:51:34.832154Z"
    }
   },
   "outputs": [],
   "source": [
    "from selenium.webdriver import Chrome\n",
    "from selenium.webdriver import ChromeOptions\n",
    "import time\n",
    "import pandas as pd\n",
    "from sklearn.metrics import accuracy_score, precision_score, recall_score\n",
    "import matplotlib.pyplot as plt"
   ]
  },
  {
   "cell_type": "code",
   "execution_count": 6,
   "id": "loving-airline",
   "metadata": {
    "ExecuteTime": {
     "end_time": "2021-05-01T18:37:40.589717Z",
     "start_time": "2021-05-01T18:37:40.584004Z"
    }
   },
   "outputs": [],
   "source": [
    "data = pd.read_csv('user_study/user_test.csv')"
   ]
  },
  {
   "cell_type": "code",
   "execution_count": 12,
   "id": "genetic-encoding",
   "metadata": {
    "ExecuteTime": {
     "end_time": "2021-05-01T19:00:58.817284Z",
     "start_time": "2021-05-01T19:00:56.223704Z"
    }
   },
   "outputs": [],
   "source": [
    "option = ChromeOptions()\n",
    "option.add_experimental_option('excludeSwitches', ['enable-automation'])\n",
    "driver = Chrome(options = option, executable_path = './chromedriver')"
   ]
  },
  {
   "cell_type": "code",
   "execution_count": 13,
   "id": "accessory-policy",
   "metadata": {
    "ExecuteTime": {
     "end_time": "2021-05-01T19:00:59.027578Z",
     "start_time": "2021-05-01T19:00:58.819853Z"
    }
   },
   "outputs": [],
   "source": [
    "url = 'http://localhost:8080/'\n",
    "driver.get(url)"
   ]
  },
  {
   "cell_type": "code",
   "execution_count": 14,
   "id": "generic-enzyme",
   "metadata": {
    "ExecuteTime": {
     "end_time": "2021-05-01T19:07:33.386738Z",
     "start_time": "2021-05-01T19:01:02.523405Z"
    }
   },
   "outputs": [],
   "source": [
    "enter_ele = driver.find_element_by_xpath('//*[@id=\"textbox\"]')\n",
    "predicted_prob = []\n",
    "predicted = []\n",
    "\n",
    "for t in data['text']:\n",
    "    enter_ele.clear()\n",
    "    enter_text = enter_ele.send_keys(t)\n",
    "    time.sleep(2)\n",
    "    fake_prob = round(float(driver.find_element_by_id('fake-percentage').text.rstrip('%'))/100, 3)\n",
    "    predicted_prob.append(fake_prob)\n",
    "    \n",
    "    if fake_prob >= 0.5:\n",
    "        predicted.append(1)\n",
    "    else:\n",
    "        predicted.append(0)"
   ]
  },
  {
   "cell_type": "code",
   "execution_count": 11,
   "id": "fifty-shell",
   "metadata": {
    "ExecuteTime": {
     "end_time": "2021-05-01T19:00:15.269500Z",
     "start_time": "2021-05-01T19:00:15.264368Z"
    }
   },
   "outputs": [],
   "source": [
    "# Small model\n",
    "data['predicted_prob_small'] = predicted_prob\n",
    "data['predicted_small'] = predicted"
   ]
  },
  {
   "cell_type": "code",
   "execution_count": 15,
   "id": "moving-estimate",
   "metadata": {
    "ExecuteTime": {
     "end_time": "2021-05-01T19:07:33.393035Z",
     "start_time": "2021-05-01T19:07:33.388811Z"
    }
   },
   "outputs": [],
   "source": [
    "# Large model\n",
    "data['predicted_prob_large'] = predicted_prob\n",
    "data['predicted_large'] = predicted"
   ]
  },
  {
   "cell_type": "code",
   "execution_count": 16,
   "id": "universal-barrier",
   "metadata": {
    "ExecuteTime": {
     "end_time": "2021-05-01T19:12:04.281667Z",
     "start_time": "2021-05-01T19:12:04.244226Z"
    }
   },
   "outputs": [
    {
     "data": {
      "text/html": [
       "<div>\n",
       "<style scoped>\n",
       "    .dataframe tbody tr th:only-of-type {\n",
       "        vertical-align: middle;\n",
       "    }\n",
       "\n",
       "    .dataframe tbody tr th {\n",
       "        vertical-align: top;\n",
       "    }\n",
       "\n",
       "    .dataframe thead th {\n",
       "        text-align: right;\n",
       "    }\n",
       "</style>\n",
       "<table border=\"1\" class=\"dataframe\">\n",
       "  <thead>\n",
       "    <tr style=\"text-align: right;\">\n",
       "      <th></th>\n",
       "      <th>Unnamed: 0</th>\n",
       "      <th>text</th>\n",
       "      <th>label</th>\n",
       "      <th>class</th>\n",
       "      <th>predicted_prob_small</th>\n",
       "      <th>predicted_small</th>\n",
       "      <th>predicted_prob_large</th>\n",
       "      <th>predicted_large</th>\n",
       "    </tr>\n",
       "  </thead>\n",
       "  <tbody>\n",
       "    <tr>\n",
       "      <th>0</th>\n",
       "      <td>223</td>\n",
       "      <td>In the working-class county where Joseph R. Bi...</td>\n",
       "      <td>0</td>\n",
       "      <td>0</td>\n",
       "      <td>0.973</td>\n",
       "      <td>1</td>\n",
       "      <td>0.407</td>\n",
       "      <td>0</td>\n",
       "    </tr>\n",
       "    <tr>\n",
       "      <th>1</th>\n",
       "      <td>29</td>\n",
       "      <td>South Africa has faced blow after blow to its ...</td>\n",
       "      <td>0</td>\n",
       "      <td>0</td>\n",
       "      <td>0.006</td>\n",
       "      <td>0</td>\n",
       "      <td>0.004</td>\n",
       "      <td>0</td>\n",
       "    </tr>\n",
       "    <tr>\n",
       "      <th>2</th>\n",
       "      <td>101</td>\n",
       "      <td>The handshake came first. Then the high-five, ...</td>\n",
       "      <td>0</td>\n",
       "      <td>0</td>\n",
       "      <td>0.012</td>\n",
       "      <td>0</td>\n",
       "      <td>0.010</td>\n",
       "      <td>0</td>\n",
       "    </tr>\n",
       "    <tr>\n",
       "      <th>3</th>\n",
       "      <td>167</td>\n",
       "      <td>For weeks, President Trump has minimized the c...</td>\n",
       "      <td>0</td>\n",
       "      <td>0</td>\n",
       "      <td>0.012</td>\n",
       "      <td>0</td>\n",
       "      <td>0.139</td>\n",
       "      <td>0</td>\n",
       "    </tr>\n",
       "    <tr>\n",
       "      <th>4</th>\n",
       "      <td>141</td>\n",
       "      <td>As ​the long Syrian war drags into its 10th ye...</td>\n",
       "      <td>0</td>\n",
       "      <td>0</td>\n",
       "      <td>0.031</td>\n",
       "      <td>0</td>\n",
       "      <td>0.139</td>\n",
       "      <td>0</td>\n",
       "    </tr>\n",
       "    <tr>\n",
       "      <th>...</th>\n",
       "      <td>...</td>\n",
       "      <td>...</td>\n",
       "      <td>...</td>\n",
       "      <td>...</td>\n",
       "      <td>...</td>\n",
       "      <td>...</td>\n",
       "      <td>...</td>\n",
       "      <td>...</td>\n",
       "    </tr>\n",
       "    <tr>\n",
       "      <th>175</th>\n",
       "      <td>135</td>\n",
       "      <td>Homes are often lumped in with the nation’s ne...</td>\n",
       "      <td>4</td>\n",
       "      <td>1</td>\n",
       "      <td>0.020</td>\n",
       "      <td>0</td>\n",
       "      <td>0.318</td>\n",
       "      <td>0</td>\n",
       "    </tr>\n",
       "    <tr>\n",
       "      <th>176</th>\n",
       "      <td>202</td>\n",
       "      <td>Police officers in riot gear surrounded the Ca...</td>\n",
       "      <td>4</td>\n",
       "      <td>1</td>\n",
       "      <td>0.105</td>\n",
       "      <td>0</td>\n",
       "      <td>0.979</td>\n",
       "      <td>1</td>\n",
       "    </tr>\n",
       "    <tr>\n",
       "      <th>177</th>\n",
       "      <td>150</td>\n",
       "      <td>The Supreme Court agreed on Friday to review t...</td>\n",
       "      <td>4</td>\n",
       "      <td>1</td>\n",
       "      <td>0.007</td>\n",
       "      <td>0</td>\n",
       "      <td>0.105</td>\n",
       "      <td>0</td>\n",
       "    </tr>\n",
       "    <tr>\n",
       "      <th>178</th>\n",
       "      <td>244</td>\n",
       "      <td>As the first death in the country from the cor...</td>\n",
       "      <td>4</td>\n",
       "      <td>1</td>\n",
       "      <td>0.909</td>\n",
       "      <td>1</td>\n",
       "      <td>0.997</td>\n",
       "      <td>1</td>\n",
       "    </tr>\n",
       "    <tr>\n",
       "      <th>179</th>\n",
       "      <td>247</td>\n",
       "      <td>Two hours before electorate access was to be d...</td>\n",
       "      <td>4</td>\n",
       "      <td>1</td>\n",
       "      <td>0.909</td>\n",
       "      <td>1</td>\n",
       "      <td>0.971</td>\n",
       "      <td>1</td>\n",
       "    </tr>\n",
       "  </tbody>\n",
       "</table>\n",
       "<p>180 rows × 8 columns</p>\n",
       "</div>"
      ],
      "text/plain": [
       "     Unnamed: 0                                               text  label  \\\n",
       "0           223  In the working-class county where Joseph R. Bi...      0   \n",
       "1            29  South Africa has faced blow after blow to its ...      0   \n",
       "2           101  The handshake came first. Then the high-five, ...      0   \n",
       "3           167  For weeks, President Trump has minimized the c...      0   \n",
       "4           141  As ​the long Syrian war drags into its 10th ye...      0   \n",
       "..          ...                                                ...    ...   \n",
       "175         135  Homes are often lumped in with the nation’s ne...      4   \n",
       "176         202  Police officers in riot gear surrounded the Ca...      4   \n",
       "177         150  The Supreme Court agreed on Friday to review t...      4   \n",
       "178         244  As the first death in the country from the cor...      4   \n",
       "179         247  Two hours before electorate access was to be d...      4   \n",
       "\n",
       "     class  predicted_prob_small  predicted_small  predicted_prob_large  \\\n",
       "0        0                 0.973                1                 0.407   \n",
       "1        0                 0.006                0                 0.004   \n",
       "2        0                 0.012                0                 0.010   \n",
       "3        0                 0.012                0                 0.139   \n",
       "4        0                 0.031                0                 0.139   \n",
       "..     ...                   ...              ...                   ...   \n",
       "175      1                 0.020                0                 0.318   \n",
       "176      1                 0.105                0                 0.979   \n",
       "177      1                 0.007                0                 0.105   \n",
       "178      1                 0.909                1                 0.997   \n",
       "179      1                 0.909                1                 0.971   \n",
       "\n",
       "     predicted_large  \n",
       "0                  0  \n",
       "1                  0  \n",
       "2                  0  \n",
       "3                  0  \n",
       "4                  0  \n",
       "..               ...  \n",
       "175                0  \n",
       "176                1  \n",
       "177                0  \n",
       "178                1  \n",
       "179                1  \n",
       "\n",
       "[180 rows x 8 columns]"
      ]
     },
     "execution_count": 16,
     "metadata": {},
     "output_type": "execute_result"
    }
   ],
   "source": [
    "data[]"
   ]
  },
  {
   "cell_type": "code",
   "execution_count": 27,
   "id": "refined-footwear",
   "metadata": {
    "ExecuteTime": {
     "end_time": "2021-05-01T20:03:00.252383Z",
     "start_time": "2021-05-01T20:03:00.246113Z"
    }
   },
   "outputs": [],
   "source": [
    "df00 = data[data['label']==0]\n",
    "df03 = data[data['label']==1]\n",
    "df05 = data[data['label']==2]\n",
    "df07 = data[data['label']==3]\n",
    "df10 = data[data['label']==4]"
   ]
  },
  {
   "cell_type": "code",
   "execution_count": 28,
   "id": "ultimate-moses",
   "metadata": {
    "ExecuteTime": {
     "end_time": "2021-05-01T20:03:01.548300Z",
     "start_time": "2021-05-01T20:03:01.537070Z"
    }
   },
   "outputs": [],
   "source": [
    "user03 = pd.concat([df03, df00])\n",
    "user05 = pd.concat([df05, df00])\n",
    "user07 = pd.concat([df07, df00])\n",
    "user10 = pd.concat([df10, df00])"
   ]
  },
  {
   "cell_type": "code",
   "execution_count": 29,
   "id": "incredible-rescue",
   "metadata": {
    "ExecuteTime": {
     "end_time": "2021-05-01T20:03:02.085068Z",
     "start_time": "2021-05-01T20:03:02.068547Z"
    }
   },
   "outputs": [],
   "source": [
    "# Small model\n",
    "acc03_s = accuracy_score(user03['class'], user03['predicted_small'])\n",
    "prec03_s = precision_score(user03['class'], user03['predicted_small'])\n",
    "rec03_s = recall_score(user03['class'], user03['predicted_small'])\n",
    "\n",
    "acc05_s = accuracy_score(user05['class'], user05['predicted_small'])\n",
    "prec05_s = precision_score(user05['class'], user05['predicted_small'])\n",
    "rec05_s = recall_score(user05['class'], user05['predicted_small'])\n",
    "\n",
    "acc07_s = accuracy_score(user07['class'], user07['predicted_small'])\n",
    "prec07_s = precision_score(user07['class'], user07['predicted_small'])\n",
    "rec07_s = recall_score(user07['class'], user07['predicted_small'])\n",
    "\n",
    "acc10_s = accuracy_score(user10['class'], user10['predicted_small'])\n",
    "prec10_s = precision_score(user10['class'], user10['predicted_small'])\n",
    "rec10_s = recall_score(user10['class'], user10['predicted_small'])"
   ]
  },
  {
   "cell_type": "code",
   "execution_count": 30,
   "id": "hearing-update",
   "metadata": {
    "ExecuteTime": {
     "end_time": "2021-05-01T20:03:03.019726Z",
     "start_time": "2021-05-01T20:03:03.004061Z"
    }
   },
   "outputs": [],
   "source": [
    "acc03_l = accuracy_score(user03['class'], user03['predicted_large'])\n",
    "prec03_l = precision_score(user03['class'], user03['predicted_large'])\n",
    "rec03_l = recall_score(user03['class'], user03['predicted_large'])\n",
    "\n",
    "acc05_l = accuracy_score(user05['class'], user05['predicted_large'])\n",
    "prec05_l = precision_score(user05['class'], user05['predicted_large'])\n",
    "rec05_l = recall_score(user05['class'], user05['predicted_large'])\n",
    "\n",
    "acc07_l = accuracy_score(user07['class'], user07['predicted_large'])\n",
    "prec07_l = precision_score(user07['class'], user07['predicted_large'])\n",
    "rec07_l = recall_score(user07['class'], user07['predicted_large'])\n",
    "\n",
    "acc10_l = accuracy_score(user10['class'], user10['predicted_large'])\n",
    "prec10_l = precision_score(user10['class'], user10['predicted_large'])\n",
    "rec10_l = recall_score(user10['class'], user10['predicted_large'])"
   ]
  },
  {
   "cell_type": "code",
   "execution_count": 31,
   "id": "twelve-clearing",
   "metadata": {
    "ExecuteTime": {
     "end_time": "2021-05-01T20:03:03.618236Z",
     "start_time": "2021-05-01T20:03:03.614982Z"
    }
   },
   "outputs": [],
   "source": [
    "temp_list = [0.3, 0.5, 0.7, 1.0]\n",
    "acc_list_s = [acc03_s, acc05_s, acc07_s, acc10_s]\n",
    "prec_list_s = [prec03_s, prec05_s, prec07_s, prec10_s]\n",
    "rec_list_s = [rec03_s, rec05_s, rec07_s, rec10_s]"
   ]
  },
  {
   "cell_type": "code",
   "execution_count": 36,
   "id": "invalid-ghost",
   "metadata": {
    "ExecuteTime": {
     "end_time": "2021-05-01T20:04:54.922839Z",
     "start_time": "2021-05-01T20:04:54.919732Z"
    }
   },
   "outputs": [
    {
     "name": "stdout",
     "output_type": "stream",
     "text": [
      "[0.6875, 0.5, 0.6428571428571429, 0.7058823529411765] [0.3055555555555556, 0.1388888888888889, 0.25, 0.3333333333333333]\n"
     ]
    }
   ],
   "source": [
    "print(prec_list_s,rec_list_s)"
   ]
  },
  {
   "cell_type": "code",
   "execution_count": 32,
   "id": "supposed-malawi",
   "metadata": {
    "ExecuteTime": {
     "end_time": "2021-05-01T20:03:25.821628Z",
     "start_time": "2021-05-01T20:03:25.818510Z"
    }
   },
   "outputs": [],
   "source": [
    "acc_list_l = [acc03_l, acc05_l, acc07_l, acc10_l]\n",
    "prec_list_l = [prec03_l, prec05_l, prec07_l, prec10_l]\n",
    "rec_list_l = [rec03_l, rec05_l, rec07_l, rec10_l]"
   ]
  },
  {
   "cell_type": "code",
   "execution_count": 48,
   "id": "entire-catch",
   "metadata": {
    "ExecuteTime": {
     "end_time": "2021-05-02T05:36:02.661913Z",
     "start_time": "2021-05-02T05:36:02.658659Z"
    }
   },
   "outputs": [
    {
     "name": "stdout",
     "output_type": "stream",
     "text": [
      "[0.7857142857142857, 0.7692307692307693, 0.8, 0.8695652173913043] [0.3055555555555556, 0.2777777777777778, 0.3333333333333333, 0.5555555555555556]\n"
     ]
    }
   ],
   "source": [
    "print(prec_list_l,rec_list_l)"
   ]
  },
  {
   "cell_type": "code",
   "execution_count": 46,
   "id": "outside-montreal",
   "metadata": {
    "ExecuteTime": {
     "end_time": "2021-05-02T05:30:37.155948Z",
     "start_time": "2021-05-02T05:30:36.963792Z"
    }
   },
   "outputs": [
    {
     "data": {
      "image/png": "[encoded data removed]",
      "text/plain": [
       "<Figure size 432x288 with 1 Axes>"
      ]
     },
     "metadata": {
      "needs_background": "light"
     },
     "output_type": "display_data"
    }
   ],
   "source": [
    "#plt.plot(temp_list, acc_list_s, label = 'Accuracy', marker = 'o', markersize=8, lw=2)\n",
    "plt.plot(temp_list, prec_list_s, label = 'Precision', marker = '*', markersize=8, lw=2)\n",
    "plt.plot(temp_list, rec_list_s, label = 'Recall', marker = 'x',markersize=8, lw=2)\n",
    "#plt.plot(temp_list, auc_list, label = 'AUC Score', marker = 'v',lw=2)\n",
    "plt.xlabel('Temperature')\n",
    "plt.ylabel('gpt-2-detector-small Performance')\n",
    "plt.yticks([0, 0.2, 0.4, 0.6, 0.8, 1])\n",
    "plt.legend(loc='upper left')\n",
    "plt.show()"
   ]
  },
  {
   "cell_type": "code",
   "execution_count": 47,
   "id": "fifth-method",
   "metadata": {
    "ExecuteTime": {
     "end_time": "2021-05-02T05:30:41.656270Z",
     "start_time": "2021-05-02T05:30:41.489268Z"
    }
   },
   "outputs": [
    {
     "data": {
      "image/png": "[encoded data removed]",
      "text/plain": [
       "<Figure size 432x288 with 1 Axes>"
      ]
     },
     "metadata": {
      "needs_background": "light"
     },
     "output_type": "display_data"
    }
   ],
   "source": [
    "#plt.plot(temp_list, acc_list_l, label = 'Accuracy', marker = 'o', markersize=8, lw=2)\n",
    "plt.plot(temp_list, prec_list_l, label = 'Precision', marker = '*', markersize=8, lw=2)\n",
    "plt.plot(temp_list, rec_list_l, label = 'Recall', marker = 'x',markersize=8, lw=2)\n",
    "plt.xlabel('Temperature')\n",
    "plt.ylabel('gpt-2-detector-large Performance')\n",
    "plt.yticks([0, 0.2, 0.4, 0.6, 0.8, 1])\n",
    "plt.legend(loc='upper left')\n",
    "plt.show()"
   ]
  },
  {
   "cell_type": "code",
   "execution_count": null,
   "id": "civic-apartment",
   "metadata": {},
   "outputs": [],
   "source": []
  }
 ],
 "metadata": {
  "kernelspec": {
   "display_name": "Python 3",
   "language": "python",
   "name": "python3"
  },
  "language_info": {
   "codemirror_mode": {
    "name": "ipython",
    "version": 3
   },
   "file_extension": ".py",
   "mimetype": "text/x-python",
   "name": "python",
   "nbconvert_exporter": "python",
   "pygments_lexer": "ipython3",
   "version": "3.7.4"
  }
 },
 "nbformat": 4,
 "nbformat_minor": 5
}
