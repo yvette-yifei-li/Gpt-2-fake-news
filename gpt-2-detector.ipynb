{
 "cells": [
  {
   "cell_type": "code",
   "execution_count": 2,
   "id": "swedish-summary",
   "metadata": {
    "ExecuteTime": {
     "end_time": "2021-05-01T05:51:27.261418Z",
     "start_time": "2021-05-01T05:51:24.856726Z"
    }
   },
   "outputs": [],
   "source": [
    "from selenium.webdriver import Chrome\n",
    "from selenium.webdriver import ChromeOptions\n",
    "import time\n",
    "import pandas as pd\n",
    "from sklearn import metrics\n",
    "import matplotlib.pyplot as plt"
   ]
  },
  {
   "cell_type": "code",
   "execution_count": 23,
   "id": "loving-airline",
   "metadata": {
    "ExecuteTime": {
     "end_time": "2021-05-01T06:55:31.237902Z",
     "start_time": "2021-05-01T06:55:31.197645Z"
    }
   },
   "outputs": [],
   "source": [
    "data = pd.read_csv('user_study/user_study_data.csv')"
   ]
  },
  {
   "cell_type": "code",
   "execution_count": 24,
   "id": "genetic-encoding",
   "metadata": {
    "ExecuteTime": {
     "end_time": "2021-05-01T06:55:34.258472Z",
     "start_time": "2021-05-01T06:55:31.967168Z"
    }
   },
   "outputs": [],
   "source": [
    "option = ChromeOptions()\n",
    "option.add_experimental_option('excludeSwitches', ['enable-automation'])\n",
    "driver = Chrome(options = option, executable_path = './chromedriver')"
   ]
  },
  {
   "cell_type": "code",
   "execution_count": 25,
   "id": "accessory-policy",
   "metadata": {
    "ExecuteTime": {
     "end_time": "2021-05-01T06:55:40.193040Z",
     "start_time": "2021-05-01T06:55:40.095201Z"
    }
   },
   "outputs": [],
   "source": [
    "url = 'http://localhost:8080/'\n",
    "driver.get(url)"
   ]
  },
  {
   "cell_type": "code",
   "execution_count": 26,
   "id": "generic-enzyme",
   "metadata": {
    "ExecuteTime": {
     "end_time": "2021-05-01T06:59:40.876038Z",
     "start_time": "2021-05-01T06:55:42.341254Z"
    }
   },
   "outputs": [],
   "source": [
    "enter_ele = driver.find_element_by_xpath('//*[@id=\"textbox\"]')\n",
    "predicted_prob = []\n",
    "predicted = []\n",
    "\n",
    "for t in data['text']:\n",
    "    enter_ele.clear()\n",
    "    enter_text = enter_ele.send_keys(t)\n",
    "    time.sleep(2)\n",
    "    fake_prob = round(float(driver.find_element_by_id('fake-percentage').text.rstrip('%'))/100, 3)\n",
    "    predicted_prob.append(fake_prob)\n",
    "    \n",
    "    if fake_prob >= 0.5:\n",
    "        predicted.append(1)\n",
    "    else:\n",
    "        predicted.append(0)"
   ]
  },
  {
   "cell_type": "code",
   "execution_count": 27,
   "id": "fifty-shell",
   "metadata": {
    "ExecuteTime": {
     "end_time": "2021-05-01T06:59:46.357367Z",
     "start_time": "2021-05-01T06:59:46.319778Z"
    }
   },
   "outputs": [],
   "source": [
    "data['predicted_prob'] = predicted_prob\n",
    "data['predicted'] = predicted"
   ]
  },
  {
   "cell_type": "code",
   "execution_count": 28,
   "id": "incredible-rescue",
   "metadata": {
    "ExecuteTime": {
     "end_time": "2021-05-01T06:59:46.883818Z",
     "start_time": "2021-05-01T06:59:46.843111Z"
    }
   },
   "outputs": [],
   "source": [
    "acc = metrics. accuracy_score(data['class'], data['predicted'])\n",
    "prec = metrics.precision_score(data['class'], data['predicted'])\n",
    "rec = metrics.recall_score(data['class'], data['predicted'])"
   ]
  },
  {
   "cell_type": "code",
   "execution_count": 29,
   "id": "twelve-clearing",
   "metadata": {
    "ExecuteTime": {
     "end_time": "2021-05-01T06:59:49.092572Z",
     "start_time": "2021-05-01T06:59:49.079734Z"
    }
   },
   "outputs": [
    {
     "name": "stdout",
     "output_type": "stream",
     "text": [
      "Accuracy: 0.57\n",
      "Precision 0.86\n",
      "Recall 0.3\n"
     ]
    }
   ],
   "source": [
    "print(\"Accuracy:\",  round(acc,2))\n",
    "print(\"Precision\", round(prec,2))\n",
    "print(\"Recall\", round(rec,2))"
   ]
  },
  {
   "cell_type": "raw",
   "id": "assumed-maryland",
   "metadata": {
    "ExecuteTime": {
     "end_time": "2021-04-29T15:46:54.821607Z",
     "start_time": "2021-04-29T15:46:54.816250Z"
    }
   },
   "source": [
    "data03 = data[data['label']==1]\n",
    "data05 = data[data['label']==2]\n",
    "data07 = data[data['label']==3]\n",
    "data10 = data[data['label']==4]"
   ]
  },
  {
   "cell_type": "code",
   "execution_count": 79,
   "id": "ignored-philip",
   "metadata": {
    "ExecuteTime": {
     "end_time": "2021-04-29T15:52:59.107557Z",
     "start_time": "2021-04-29T15:52:59.067649Z"
    }
   },
   "outputs": [],
   "source": [
    "acc03 = metrics. accuracy_score(data03['class'], data03['predicted'])\n",
    "prec03 = metrics.precision_score(data03['class'], data03['predicted'])\n",
    "rec03 = metrics.recall_score(data03['class'], data03['predicted'])\n",
    "\n",
    "acc05 = metrics. accuracy_score(data05['class'], data05['predicted'])\n",
    "prec05 = metrics.precision_score(data05['class'], data05['predicted'])\n",
    "rec05 = metrics.recall_score(data05['class'], data05['predicted'])\n",
    "\n",
    "acc07 = metrics. accuracy_score(data07['class'], data07['predicted'])\n",
    "prec07 = metrics.precision_score(data07['class'], data07['predicted'])\n",
    "rec07 = metrics.recall_score(data07['class'], data07['predicted'])\n",
    "\n",
    "acc10 = metrics. accuracy_score(data10['class'], data10['predicted'])\n",
    "prec10 = metrics.precision_score(data10['class'], data10['predicted'])\n",
    "rec10 = metrics.recall_score(data10['class'], data10['predicted'])\n",
    "\n",
    "temp_list = [0.3, 0.5, 0.7, 1.0]\n",
    "prec_lsit = [prec03, prec05, prec07, prec10]\n",
    "rec_list = [rec03, rec05, rec07, rec10]"
   ]
  },
  {
   "cell_type": "code",
   "execution_count": 82,
   "id": "outside-montreal",
   "metadata": {
    "ExecuteTime": {
     "end_time": "2021-04-29T15:56:09.432430Z",
     "start_time": "2021-04-29T15:56:09.270016Z"
    }
   },
   "outputs": [
    {
     "data": {
      "image/png": "[encoded data removed]",
      "text/plain": [
       "<Figure size 432x288 with 1 Axes>"
      ]
     },
     "metadata": {
      "needs_background": "light"
     },
     "output_type": "display_data"
    }
   ],
   "source": [
    "#plt.plot(temp_list, acc_list, label = 'Accuracy', marker = 'o', markersize=8, lw=2)\n",
    "plt.plot(temp_list, prec_lsit, label = 'Precision', marker = '*',lw=2)\n",
    "plt.plot(temp_list, rec_list, label = 'Recall', marker = 'x',lw=2)\n",
    "#plt.plot(temp_list, auc_list, label = 'AUC Score', marker = 'v',lw=2)\n",
    "plt.xlabel('Temperatuer')\n",
    "plt.ylabel('gpt-2-detector Performance')\n",
    "plt.yticks([0, 0.2, 0.4, 0.6, 0.8, 1])\n",
    "plt.legend(loc='upper left')\n",
    "plt.show()"
   ]
  },
  {
   "cell_type": "code",
   "execution_count": 76,
   "id": "aggressive-arcade",
   "metadata": {
    "ExecuteTime": {
     "end_time": "2021-04-29T15:51:24.202306Z",
     "start_time": "2021-04-29T15:51:24.032990Z"
    }
   },
   "outputs": [
    {
     "name": "stdout",
     "output_type": "stream",
     "text": [
      "Accuracy: 0.45\n",
      "Precision 0.96\n",
      "Recall 0.34\n"
     ]
    },
    {
     "data": {
      "image/png": "[encoded data removed]",
      "text/plain": [
       "<Figure size 432x288 with 1 Axes>"
      ]
     },
     "metadata": {
      "needs_background": "light"
     },
     "output_type": "display_data"
    }
   ],
   "source": [
    "# Overall performance of the gpt-2-detector\n",
    "fpr = dict()\n",
    "tpr = dict()\n",
    "roc_auc = dict()\n",
    "\n",
    "accuracy = metrics. accuracy_score(data['class'], data['predicted'])\n",
    "precision = metrics.precision_score(data['class'], data['predicted'])\n",
    "recall = metrics.recall_score(data['class'], data['predicted'])\n",
    "\n",
    "print(\"Accuracy:\",  round(accuracy,2))\n",
    "print(\"Precision\", round(precision,2))\n",
    "print(\"Recall\", round(recall,2))\n",
    "\n",
    "fpr, tpr, _ = metrics.roc_curve(data['class'], data['predicted_prob'])\n",
    "roc_auc = metrics.auc(fpr, tpr)\n",
    "    \n",
    "plt.figure()\n",
    "lw = 2\n",
    "plt.plot(fpr, tpr, color='darkorange', lw=lw, label='ROC curve (area = %0.2f)' % roc_auc)\n",
    "plt.plot([0, 1], [0, 1], color='navy', lw=lw, linestyle='--')\n",
    "plt.xlim([0.0, 1.0])\n",
    "plt.ylim([0.0, 1.05])\n",
    "plt.xlabel('False Positive Rate')\n",
    "plt.ylabel('True Positive Rate')\n",
    "plt.title('Receiver operating characteristic example')\n",
    "plt.legend(loc=\"lower right\")\n",
    "plt.show()"
   ]
  },
  {
   "cell_type": "code",
   "execution_count": null,
   "id": "fifth-method",
   "metadata": {},
   "outputs": [],
   "source": []
  }
 ],
 "metadata": {
  "kernelspec": {
   "display_name": "Python 3",
   "language": "python",
   "name": "python3"
  },
  "language_info": {
   "codemirror_mode": {
    "name": "ipython",
    "version": 3
   },
   "file_extension": ".py",
   "mimetype": "text/x-python",
   "name": "python",
   "nbconvert_exporter": "python",
   "pygments_lexer": "ipython3",
   "version": "3.7.4"
  }
 },
 "nbformat": 4,
 "nbformat_minor": 5
}
